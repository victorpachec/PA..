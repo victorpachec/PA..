{
  "nbformat": 4,
  "nbformat_minor": 0,
  "metadata": {
    "colab": {
      "provenance": [],
      "authorship_tag": "ABX9TyMm3KeSDkzazsIb1+hHCJtk",
      "include_colab_link": true
    },
    "kernelspec": {
      "name": "python3",
      "display_name": "Python 3"
    },
    "language_info": {
      "name": "python"
    }
  },
  "cells": [
    {
      "cell_type": "markdown",
      "metadata": {
        "id": "view-in-github",
        "colab_type": "text"
      },
      "source": [
        "<a href=\"https://colab.research.google.com/github/victorpachec/PA../blob/main/Untitled0.ipynb\" target=\"_parent\"><img src=\"https://colab.research.google.com/assets/colab-badge.svg\" alt=\"Open In Colab\"/></a>"
      ]
    },
    {
      "cell_type": "code",
      "source": [
        "def calcular_total_compra(precos):\n",
        "\n",
        "  total = sum(precos)\n",
        "  return total\n",
        "\n",
        "num_itens = int(input(\"Quantos itens você comprou? \"))\n",
        "precos = []\n",
        "for i in range(1, num_itens + 1):\n",
        "  preco = float(input(f\"Digite o preço do item {i}: \"))\n",
        "  precos.append(preco)\n",
        "\n",
        "valor_total = calcular_total_compra(precos)\n",
        "print(f\"O valor total da compra é: R$ {valor_total:.2f}\")\n",
        "\n"
      ],
      "metadata": {
        "colab": {
          "base_uri": "https://localhost:8080/"
        },
        "id": "8quXuZjf7795",
        "outputId": "7f39280a-8623-4e62-e1c3-de3b5e348daf"
      },
      "execution_count": 4,
      "outputs": [
        {
          "output_type": "stream",
          "name": "stdout",
          "text": [
            "Quantos itens você comprou? 3\n",
            "Digite o preço do item 1: 12\n",
            "Digite o preço do item 2: 321\n",
            "Digite o preço do item 3: 321\n",
            "O valor total da compra é: R$ 654.00\n"
          ]
        }
      ]
    },
    {
      "cell_type": "code",
      "source": [
        "def realizar_votacao():\n",
        "    votos_candidato_a = 0\n",
        "    votos_candidato_b = 0\n",
        "    votos_candidato_c = 0\n",
        "\n",
        "while True:\n",
        "  voto = input(\"Vote no seu candidato:\\n\"\n",
        "               \"1 - Candidato A\\n\"\n",
        "               \"2 - Candidato B\\n\"\n",
        "                \"3 - Candidato C\\n\"\n",
        "               \"Digite 0 para encerrar.\\n\"\n",
        "                 \"Seu voto: \")\n",
        "\n",
        "\n",
        "voto = int(voto)\n",
        "if votos == 0:\n",
        " break\n",
        "elif votos == 1:\n",
        " votos_candidato_a += 1\n",
        "elif votos == 2:\n",
        " votos_candidato_b += 1\n",
        "elif votos == 3:\n",
        " votos_candidato_c += 1\n",
        "else:\n",
        "  print(\"Voto inválido. Digite um número entre 0 e 3.\")\n",
        ""
      ],
      "metadata": {
        "colab": {
          "base_uri": "https://localhost:8080/"
        },
        "id": "B7lvk6G68lGg",
        "outputId": "7e83bffe-e56d-4566-90af-4c11f0367feb"
      },
      "execution_count": null,
      "outputs": [
        {
          "name": "stdout",
          "output_type": "stream",
          "text": [
            "Vote no seu candidato:\n",
            "1 - Candidato A\n",
            "2 - Candidato B\n",
            "3 - Candidato C\n",
            "Digite 0 para encerrar.\n",
            "Seu voto: a\n",
            "Vote no seu candidato:\n",
            "1 - Candidato A\n",
            "2 - Candidato B\n",
            "3 - Candidato C\n",
            "Digite 0 para encerrar.\n",
            "Seu voto: a\n",
            "Vote no seu candidato:\n",
            "1 - Candidato A\n",
            "2 - Candidato B\n",
            "3 - Candidato C\n",
            "Digite 0 para encerrar.\n",
            "Seu voto: \n",
            "Vote no seu candidato:\n",
            "1 - Candidato A\n",
            "2 - Candidato B\n",
            "3 - Candidato C\n",
            "Digite 0 para encerrar.\n",
            "Seu voto: \n",
            "Vote no seu candidato:\n",
            "1 - Candidato A\n",
            "2 - Candidato B\n",
            "3 - Candidato C\n",
            "Digite 0 para encerrar.\n",
            "Seu voto: \n",
            "Vote no seu candidato:\n",
            "1 - Candidato A\n",
            "2 - Candidato B\n",
            "3 - Candidato C\n",
            "Digite 0 para encerrar.\n",
            "Seu voto: \n",
            "Vote no seu candidato:\n",
            "1 - Candidato A\n",
            "2 - Candidato B\n",
            "3 - Candidato C\n",
            "Digite 0 para encerrar.\n",
            "Seu voto: 0\n",
            "Vote no seu candidato:\n",
            "1 - Candidato A\n",
            "2 - Candidato B\n",
            "3 - Candidato C\n",
            "Digite 0 para encerrar.\n",
            "Seu voto: 0\n"
          ]
        }
      ]
    }
  ]
}